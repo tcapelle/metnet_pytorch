{
 "cells": [
  {
   "cell_type": "markdown",
   "metadata": {},
   "source": [
    "# MetNet Pytorch"
   ]
  },
  {
   "cell_type": "markdown",
   "metadata": {},
   "source": [
    "This repo implements my own approximation of [MetNet](https://arxiv.org/abs/2003.12140).\n",
    "\n",
    "![metnet](images/metnet_scheme.png)\n",
    "Take a look at the notebooks, you can install this repo using:\n",
    "\n",
    "```bash\n",
    "pip install -e ."
   ]
  },
  {
   "cell_type": "code",
   "execution_count": null,
   "metadata": {},
   "outputs": [],
   "source": [
    "from fastai.vision.all import *\n",
    "from metnet_pytorch.model import DownSampler, MetNet"
   ]
  },
  {
   "cell_type": "code",
   "execution_count": null,
   "metadata": {},
   "outputs": [],
   "source": [
    "past_instants = 6\n",
    "horizon = 10\n",
    "xtra_features = 5\n",
    "image_encoder = DownSampler(3 + xtra_features + horizon)"
   ]
  },
  {
   "cell_type": "code",
   "execution_count": null,
   "metadata": {},
   "outputs": [],
   "source": [
    "metnet = MetNet(image_encoder, hidden_dim=128, \n",
    "                ks=3, n_layers=1, horizon=horizon, \n",
    "                head=create_head(128, 1), n_feats=xtra_features, debug=True)\n",
    "metnet.eval();"
   ]
  },
  {
   "cell_type": "code",
   "execution_count": null,
   "metadata": {},
   "outputs": [],
   "source": [
    "imgs = torch.rand(1,past_instants,3,64,64)\n",
    "timeseries = torch.rand(1,xtra_features,past_instants)"
   ]
  },
  {
   "cell_type": "code",
   "execution_count": null,
   "metadata": {},
   "outputs": [
    {
     "name": "stdout",
     "output_type": "stream",
     "text": [
      " Input -> (imgs: torch.Size([1, 6, 3, 64, 64]), feats: torch.Size([1, 5, 6]))\n",
      " augmented imgs:   torch.Size([1, 6, 8, 64, 64])\n",
      "Encode Timestep:(i=0)\n",
      " input shape: torch.Size([1, 6, 8, 64, 64])\n",
      " CondTime->x.shape: torch.Size([1, 6, 18, 64, 64])\n",
      " encoded images shape: torch.Size([1, 6, 256, 16, 16])\n",
      " temp_enc out shape: torch.Size([1, 128, 16, 16])\n",
      "Encode Timestep:(i=1)\n",
      " input shape: torch.Size([1, 6, 8, 64, 64])\n",
      " CondTime->x.shape: torch.Size([1, 6, 18, 64, 64])\n",
      " encoded images shape: torch.Size([1, 6, 256, 16, 16])\n",
      " temp_enc out shape: torch.Size([1, 128, 16, 16])\n",
      "Encode Timestep:(i=2)\n",
      " input shape: torch.Size([1, 6, 8, 64, 64])\n",
      " CondTime->x.shape: torch.Size([1, 6, 18, 64, 64])\n",
      " encoded images shape: torch.Size([1, 6, 256, 16, 16])\n",
      " temp_enc out shape: torch.Size([1, 128, 16, 16])\n",
      "Encode Timestep:(i=3)\n",
      " input shape: torch.Size([1, 6, 8, 64, 64])\n",
      " CondTime->x.shape: torch.Size([1, 6, 18, 64, 64])\n",
      " encoded images shape: torch.Size([1, 6, 256, 16, 16])\n",
      " temp_enc out shape: torch.Size([1, 128, 16, 16])\n",
      "Encode Timestep:(i=4)\n",
      " input shape: torch.Size([1, 6, 8, 64, 64])\n",
      " CondTime->x.shape: torch.Size([1, 6, 18, 64, 64])\n",
      " encoded images shape: torch.Size([1, 6, 256, 16, 16])\n",
      " temp_enc out shape: torch.Size([1, 128, 16, 16])\n",
      "Encode Timestep:(i=5)\n",
      " input shape: torch.Size([1, 6, 8, 64, 64])\n",
      " CondTime->x.shape: torch.Size([1, 6, 18, 64, 64])\n",
      " encoded images shape: torch.Size([1, 6, 256, 16, 16])\n",
      " temp_enc out shape: torch.Size([1, 128, 16, 16])\n",
      "Encode Timestep:(i=6)\n",
      " input shape: torch.Size([1, 6, 8, 64, 64])\n",
      " CondTime->x.shape: torch.Size([1, 6, 18, 64, 64])\n",
      " encoded images shape: torch.Size([1, 6, 256, 16, 16])\n",
      " temp_enc out shape: torch.Size([1, 128, 16, 16])\n",
      "Encode Timestep:(i=7)\n",
      " input shape: torch.Size([1, 6, 8, 64, 64])\n",
      " CondTime->x.shape: torch.Size([1, 6, 18, 64, 64])\n",
      " encoded images shape: torch.Size([1, 6, 256, 16, 16])\n",
      " temp_enc out shape: torch.Size([1, 128, 16, 16])\n",
      "Encode Timestep:(i=8)\n",
      " input shape: torch.Size([1, 6, 8, 64, 64])\n",
      " CondTime->x.shape: torch.Size([1, 6, 18, 64, 64])\n",
      " encoded images shape: torch.Size([1, 6, 256, 16, 16])\n",
      " temp_enc out shape: torch.Size([1, 128, 16, 16])\n",
      "Encode Timestep:(i=9)\n",
      " input shape: torch.Size([1, 6, 8, 64, 64])\n",
      " CondTime->x.shape: torch.Size([1, 6, 18, 64, 64])\n",
      " encoded images shape: torch.Size([1, 6, 256, 16, 16])\n",
      " temp_enc out shape: torch.Size([1, 128, 16, 16])\n",
      "res.shape=torch.Size([10])\n"
     ]
    }
   ],
   "source": [
    "with torch.no_grad():\n",
    "    metnet(imgs, timeseries)"
   ]
  }
 ],
 "metadata": {
  "kernelspec": {
   "display_name": "Python 3",
   "language": "python",
   "name": "python3"
  }
 },
 "nbformat": 4,
 "nbformat_minor": 4
}
